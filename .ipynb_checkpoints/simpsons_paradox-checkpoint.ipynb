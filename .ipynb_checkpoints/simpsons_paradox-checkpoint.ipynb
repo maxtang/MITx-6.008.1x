{
 "cells": [
  {
   "cell_type": "code",
   "execution_count": 1,
   "metadata": {
    "collapsed": true
   },
   "outputs": [],
   "source": [
    "from simpsons_paradox_data import *"
   ]
  },
  {
   "cell_type": "code",
   "execution_count": 3,
   "metadata": {
    "collapsed": false
   },
   "outputs": [
    {
     "data": {
      "text/plain": [
       "0.044547061422890007"
      ]
     },
     "execution_count": 3,
     "metadata": {},
     "output_type": "execute_result"
    }
   ],
   "source": [
    "joint_prob_table[gender_mapping['female'], department_mapping['C'], admission_mapping['admitted']]"
   ]
  },
  {
   "cell_type": "code",
   "execution_count": 11,
   "metadata": {
    "collapsed": false
   },
   "outputs": [
    {
     "data": {
      "text/plain": [
       "array([[[ 0.01956695,  0.00429518],\n",
       "        [ 0.00375608,  0.00176757],\n",
       "        [ 0.04454706,  0.08647371],\n",
       "        [ 0.02899912,  0.0538555 ],\n",
       "        [ 0.02083959,  0.06599205],\n",
       "        [ 0.00527397,  0.07006849]],\n",
       "\n",
       "       [[ 0.1130137 ,  0.06926646],\n",
       "        [ 0.07794962,  0.04577994],\n",
       "        [ 0.02656871,  0.04523862],\n",
       "        [ 0.03040433,  0.06173   ],\n",
       "        [ 0.01181617,  0.03038445],\n",
       "        [ 0.00494476,  0.07746796]]])"
      ]
     },
     "execution_count": 11,
     "metadata": {},
     "output_type": "execute_result"
    }
   ],
   "source": [
    "joint_prob_table"
   ]
  },
  {
   "cell_type": "code",
   "execution_count": 13,
   "metadata": {
    "collapsed": false
   },
   "outputs": [
    {
     "data": {
      "text/plain": [
       "array([[ 0.13258065,  0.07356164],\n",
       "       [ 0.0817057 ,  0.0475475 ],\n",
       "       [ 0.07111578,  0.13171233],\n",
       "       [ 0.05940345,  0.11558551],\n",
       "       [ 0.03265577,  0.09637649],\n",
       "       [ 0.01021874,  0.14753646]])"
      ]
     },
     "execution_count": 13,
     "metadata": {},
     "output_type": "execute_result"
    }
   ],
   "source": [
    "joint_prob_table.sum(axis=0)"
   ]
  },
  {
   "cell_type": "code",
   "execution_count": 10,
   "metadata": {
    "collapsed": false
   },
   "outputs": [
    {
     "data": {
      "text/plain": [
       "array([[ 0.12298277,  0.2824525 ],\n",
       "       [ 0.2646973 ,  0.32986743]])"
      ]
     },
     "execution_count": 10,
     "metadata": {},
     "output_type": "execute_result"
    }
   ],
   "source": [
    "joint_prob_gender_admission = joint_prob_table.sum(axis=1)\n",
    "joint_prob_gender_admission"
   ]
  },
  {
   "cell_type": "code",
   "execution_count": 15,
   "metadata": {
    "collapsed": false
   },
   "outputs": [
    {
     "data": {
      "text/plain": [
       "<class 'pandas.core.panel.Panel'>\n",
       "Dimensions: 2 (items) x 6 (major_axis) x 2 (minor_axis)\n",
       "Items axis: female to male\n",
       "Major_axis axis: A to F\n",
       "Minor_axis axis: admitted to rejected"
      ]
     },
     "execution_count": 15,
     "metadata": {},
     "output_type": "execute_result"
    }
   ],
   "source": [
    "joint_prob_panel = pd.Panel(joint_prob_table, \n",
    "         items = gender_labels,\n",
    "         major_axis = department_mapping,\n",
    "         minor_axis = admission_mapping\n",
    "        )\n",
    "joint_prob_panel"
   ]
  },
  {
   "cell_type": "code",
   "execution_count": 17,
   "metadata": {
    "collapsed": false
   },
   "outputs": [
    {
     "data": {
      "text/html": [
       "<div>\n",
       "<table border=\"1\" class=\"dataframe\">\n",
       "  <thead>\n",
       "    <tr style=\"text-align: right;\">\n",
       "      <th></th>\n",
       "      <th>admitted</th>\n",
       "      <th>rejected</th>\n",
       "    </tr>\n",
       "  </thead>\n",
       "  <tbody>\n",
       "    <tr>\n",
       "      <th>A</th>\n",
       "      <td>0.132581</td>\n",
       "      <td>0.073562</td>\n",
       "    </tr>\n",
       "    <tr>\n",
       "      <th>C</th>\n",
       "      <td>0.081706</td>\n",
       "      <td>0.047548</td>\n",
       "    </tr>\n",
       "    <tr>\n",
       "      <th>D</th>\n",
       "      <td>0.071116</td>\n",
       "      <td>0.131712</td>\n",
       "    </tr>\n",
       "    <tr>\n",
       "      <th>B</th>\n",
       "      <td>0.059403</td>\n",
       "      <td>0.115586</td>\n",
       "    </tr>\n",
       "    <tr>\n",
       "      <th>E</th>\n",
       "      <td>0.032656</td>\n",
       "      <td>0.096376</td>\n",
       "    </tr>\n",
       "    <tr>\n",
       "      <th>F</th>\n",
       "      <td>0.010219</td>\n",
       "      <td>0.147536</td>\n",
       "    </tr>\n",
       "  </tbody>\n",
       "</table>\n",
       "</div>"
      ],
      "text/plain": [
       "   admitted  rejected\n",
       "A  0.132581  0.073562\n",
       "C  0.081706  0.047548\n",
       "D  0.071116  0.131712\n",
       "B  0.059403  0.115586\n",
       "E  0.032656  0.096376\n",
       "F  0.010219  0.147536"
      ]
     },
     "execution_count": 17,
     "metadata": {},
     "output_type": "execute_result"
    }
   ],
   "source": [
    "joint_prob_panel.sum(axis=0)"
   ]
  },
  {
   "cell_type": "code",
   "execution_count": 22,
   "metadata": {
    "collapsed": true
   },
   "outputs": [],
   "source": [
    "%matplotlib inline  "
   ]
  },
  {
   "cell_type": "code",
   "execution_count": 23,
   "metadata": {
    "collapsed": false
   },
   "outputs": [
    {
     "data": {
      "text/plain": [
       "<matplotlib.axes._subplots.AxesSubplot at 0x7fb4d46e3240>"
      ]
     },
     "execution_count": 23,
     "metadata": {},
     "output_type": "execute_result"
    },
    {
     "data": {
      "image/png": "[encoded data removed]",
      "text/plain": [
       "<matplotlib.figure.Figure at 0x7fb4d46de080>"
      ]
     },
     "metadata": {},
     "output_type": "display_data"
    }
   ],
   "source": [
    "joint_prob_panel.sum(axis=0).plot()"
   ]
  },
  {
   "cell_type": "code",
   "execution_count": 18,
   "metadata": {
    "collapsed": false
   },
   "outputs": [
    {
     "data": {
      "text/html": [
       "<div>\n",
       "<table border=\"1\" class=\"dataframe\">\n",
       "  <thead>\n",
       "    <tr style=\"text-align: right;\">\n",
       "      <th></th>\n",
       "      <th>female</th>\n",
       "      <th>male</th>\n",
       "    </tr>\n",
       "  </thead>\n",
       "  <tbody>\n",
       "    <tr>\n",
       "      <th>admitted</th>\n",
       "      <td>0.122983</td>\n",
       "      <td>0.264697</td>\n",
       "    </tr>\n",
       "    <tr>\n",
       "      <th>rejected</th>\n",
       "      <td>0.282452</td>\n",
       "      <td>0.329867</td>\n",
       "    </tr>\n",
       "  </tbody>\n",
       "</table>\n",
       "</div>"
      ],
      "text/plain": [
       "            female      male\n",
       "admitted  0.122983  0.264697\n",
       "rejected  0.282452  0.329867"
      ]
     },
     "execution_count": 18,
     "metadata": {},
     "output_type": "execute_result"
    }
   ],
   "source": [
    "joint_prob_panel.sum(axis=1)"
   ]
  },
  {
   "cell_type": "code",
   "execution_count": 24,
   "metadata": {
    "collapsed": false
   },
   "outputs": [
    {
     "data": {
      "text/plain": [
       "<matplotlib.axes._subplots.AxesSubplot at 0x7fb4d5b8cd30>"
      ]
     },
     "execution_count": 24,
     "metadata": {},
     "output_type": "execute_result"
    },
    {
     "data": {
      "image/png": "[encoded data removed]",
      "text/plain": [
       "<matplotlib.figure.Figure at 0x7fb4d5b954e0>"
      ]
     },
     "metadata": {},
     "output_type": "display_data"
    }
   ],
   "source": [
    "joint_prob_panel.sum(axis=1).plot()"
   ]
  },
  {
   "cell_type": "code",
   "execution_count": 25,
   "metadata": {
    "collapsed": false
   },
   "outputs": [
    {
     "data": {
      "text/html": [
       "<div>\n",
       "<table border=\"1\" class=\"dataframe\">\n",
       "  <thead>\n",
       "    <tr style=\"text-align: right;\">\n",
       "      <th></th>\n",
       "      <th>female</th>\n",
       "      <th>male</th>\n",
       "    </tr>\n",
       "  </thead>\n",
       "  <tbody>\n",
       "    <tr>\n",
       "      <th>A</th>\n",
       "      <td>0.023862</td>\n",
       "      <td>0.182280</td>\n",
       "    </tr>\n",
       "    <tr>\n",
       "      <th>C</th>\n",
       "      <td>0.005524</td>\n",
       "      <td>0.123730</td>\n",
       "    </tr>\n",
       "    <tr>\n",
       "      <th>D</th>\n",
       "      <td>0.131021</td>\n",
       "      <td>0.071807</td>\n",
       "    </tr>\n",
       "    <tr>\n",
       "      <th>B</th>\n",
       "      <td>0.082855</td>\n",
       "      <td>0.092134</td>\n",
       "    </tr>\n",
       "    <tr>\n",
       "      <th>E</th>\n",
       "      <td>0.086832</td>\n",
       "      <td>0.042201</td>\n",
       "    </tr>\n",
       "    <tr>\n",
       "      <th>F</th>\n",
       "      <td>0.075342</td>\n",
       "      <td>0.082413</td>\n",
       "    </tr>\n",
       "  </tbody>\n",
       "</table>\n",
       "</div>"
      ],
      "text/plain": [
       "     female      male\n",
       "A  0.023862  0.182280\n",
       "C  0.005524  0.123730\n",
       "D  0.131021  0.071807\n",
       "B  0.082855  0.092134\n",
       "E  0.086832  0.042201\n",
       "F  0.075342  0.082413"
      ]
     },
     "execution_count": 25,
     "metadata": {},
     "output_type": "execute_result"
    }
   ],
   "source": [
    "joint_prob_panel.sum(axis=2)"
   ]
  },
  {
   "cell_type": "code",
   "execution_count": 27,
   "metadata": {
    "collapsed": false
   },
   "outputs": [
    {
     "data": {
      "text/plain": [
       "<matplotlib.axes._subplots.AxesSubplot at 0x7fb4e43ff940>"
      ]
     },
     "execution_count": 27,
     "metadata": {},
     "output_type": "execute_result"
    },
    {
     "data": {
      "image/png": "[encoded data removed]",
      "text/plain": [
       "<matplotlib.figure.Figure at 0x7fb4e4406b00>"
      ]
     },
     "metadata": {},
     "output_type": "display_data"
    }
   ],
   "source": [
    "joint_prob_panel.sum(axis=2).plot()"
   ]
  },
  {
   "cell_type": "code",
   "execution_count": 28,
   "metadata": {
    "collapsed": false
   },
   "outputs": [
    {
     "data": {
      "text/plain": [
       "0.12298276623950503"
      ]
     },
     "execution_count": 28,
     "metadata": {},
     "output_type": "execute_result"
    }
   ],
   "source": [
    "joint_prob_gender_admission[gender_mapping['female'], admission_mapping['admitted']]"
   ]
  },
  {
   "cell_type": "code",
   "execution_count": 32,
   "metadata": {
    "collapsed": false
   },
   "outputs": [
    {
     "data": {
      "text/plain": [
       "0.12298276623950503"
      ]
     },
     "execution_count": 32,
     "metadata": {},
     "output_type": "execute_result"
    }
   ],
   "source": [
    "joint_prob_panel.sum(axis=1)['female'].loc['admitted']"
   ]
  },
  {
   "cell_type": "code",
   "execution_count": 34,
   "metadata": {
    "collapsed": false
   },
   "outputs": [
    {
     "data": {
      "text/plain": [
       "array([ 0.12298277,  0.2824525 ])"
      ]
     },
     "execution_count": 34,
     "metadata": {},
     "output_type": "execute_result"
    }
   ],
   "source": [
    "female_only = joint_prob_gender_admission[gender_mapping['female']]\n",
    "female_only"
   ]
  },
  {
   "cell_type": "code",
   "execution_count": 35,
   "metadata": {
    "collapsed": false
   },
   "outputs": [
    {
     "data": {
      "text/plain": [
       "admitted    0.122983\n",
       "rejected    0.282452\n",
       "Name: female, dtype: float64"
      ]
     },
     "execution_count": 35,
     "metadata": {},
     "output_type": "execute_result"
    }
   ],
   "source": [
    "joint_prob_panel.sum(axis=1)['female']"
   ]
  },
  {
   "cell_type": "code",
   "execution_count": 37,
   "metadata": {
    "collapsed": false
   },
   "outputs": [
    {
     "data": {
      "text/plain": [
       "array([ 0.30333515,  0.69666485])"
      ]
     },
     "execution_count": 37,
     "metadata": {},
     "output_type": "execute_result"
    }
   ],
   "source": [
    "prob_admission_given_female = female_only / np.sum(female_only)\n",
    "prob_admission_given_female"
   ]
  },
  {
   "cell_type": "code",
   "execution_count": 40,
   "metadata": {
    "collapsed": false
   },
   "outputs": [
    {
     "data": {
      "text/plain": [
       "admitted    0.303335\n",
       "rejected    0.696665\n",
       "Name: female, dtype: float64"
      ]
     },
     "execution_count": 40,
     "metadata": {},
     "output_type": "execute_result"
    }
   ],
   "source": [
    "joint_prob_panel.sum(axis=1)['female']/joint_prob_panel.sum(axis=1)['female'].sum()"
   ]
  },
  {
   "cell_type": "code",
   "execution_count": 41,
   "metadata": {
    "collapsed": false
   },
   "outputs": [
    {
     "name": "stdout",
     "output_type": "stream",
     "text": [
      "{'admitted': 0.30333514986376009, 'rejected': 0.69666485013623991}\n"
     ]
    }
   ],
   "source": [
    "prob_admission_given_female_dict = dict(zip(admission_labels, prob_admission_given_female))\n",
    "print(prob_admission_given_female_dict)"
   ]
  },
  {
   "cell_type": "code",
   "execution_count": 42,
   "metadata": {
    "collapsed": false
   },
   "outputs": [
    {
     "data": {
      "text/plain": [
       "admitted    0.445195\n",
       "rejected    0.554805\n",
       "Name: male, dtype: float64"
      ]
     },
     "execution_count": 42,
     "metadata": {},
     "output_type": "execute_result"
    }
   ],
   "source": [
    "joint_prob_panel.sum(axis=1)['male']/joint_prob_panel.sum(axis=1)['male'].sum()"
   ]
  },
  {
   "cell_type": "code",
   "execution_count": 44,
   "metadata": {
    "collapsed": false
   },
   "outputs": [
    {
     "data": {
      "text/plain": [
       "array([ 0.12298277,  0.2646973 ])"
      ]
     },
     "execution_count": 44,
     "metadata": {},
     "output_type": "execute_result"
    }
   ],
   "source": [
    "admitted_only = joint_prob_gender_admission[:, admission_mapping['admitted']]\n",
    "admitted_only"
   ]
  },
  {
   "cell_type": "code",
   "execution_count": 50,
   "metadata": {
    "collapsed": false
   },
   "outputs": [
    {
     "data": {
      "text/plain": [
       "female    0.122983\n",
       "male      0.264697\n",
       "Name: admitted, dtype: float64"
      ]
     },
     "execution_count": 50,
     "metadata": {},
     "output_type": "execute_result"
    }
   ],
   "source": [
    "joint_prob_panel.sum(axis=1).loc['admitted']"
   ]
  },
  {
   "cell_type": "code",
   "execution_count": 51,
   "metadata": {
    "collapsed": false
   },
   "outputs": [
    {
     "name": "stdout",
     "output_type": "stream",
     "text": [
      "{'female': 0.31722746546300079, 'male': 0.68277253453699915}\n"
     ]
    }
   ],
   "source": [
    "prob_gender_given_admitted = admitted_only / np.sum(admitted_only)\n",
    "prob_gender_given_admitted_dict = dict(zip(gender_labels, prob_gender_given_admitted))\n",
    "print(prob_gender_given_admitted_dict)"
   ]
  },
  {
   "cell_type": "code",
   "execution_count": 53,
   "metadata": {
    "collapsed": false
   },
   "outputs": [
    {
     "data": {
      "text/plain": [
       "female    0.317227\n",
       "male      0.682773\n",
       "Name: admitted, dtype: float64"
      ]
     },
     "execution_count": 53,
     "metadata": {},
     "output_type": "execute_result"
    }
   ],
   "source": [
    "joint_prob_panel.sum(axis=1).loc['admitted']/joint_prob_panel.sum(axis=1).loc['admitted'].sum()"
   ]
  },
  {
   "cell_type": "code",
   "execution_count": 55,
   "metadata": {
    "collapsed": false
   },
   "outputs": [
    {
     "data": {
      "text/plain": [
       "array([ 0.01956695,  0.00429518])"
      ]
     },
     "execution_count": 55,
     "metadata": {},
     "output_type": "execute_result"
    }
   ],
   "source": [
    "female_and_A_only = joint_prob_table[gender_mapping['female'], department_mapping['A']]\n",
    "female_and_A_only"
   ]
  },
  {
   "cell_type": "code",
   "execution_count": 74,
   "metadata": {
    "collapsed": false
   },
   "outputs": [
    {
     "data": {
      "text/plain": [
       "array([ 0.68,  0.32])"
      ]
     },
     "execution_count": 74,
     "metadata": {},
     "output_type": "execute_result"
    }
   ],
   "source": [
    "joint_prob_table[gender_mapping['female'], department_mapping['B']]/joint_prob_table[gender_mapping['female'], department_mapping['B']].sum()"
   ]
  },
  {
   "cell_type": "code",
   "execution_count": 56,
   "metadata": {
    "collapsed": false
   },
   "outputs": [
    {
     "data": {
      "text/plain": [
       "<class 'pandas.core.panel.Panel'>\n",
       "Dimensions: 2 (items) x 6 (major_axis) x 2 (minor_axis)\n",
       "Items axis: female to male\n",
       "Major_axis axis: A to F\n",
       "Minor_axis axis: admitted to rejected"
      ]
     },
     "execution_count": 56,
     "metadata": {},
     "output_type": "execute_result"
    }
   ],
   "source": [
    "joint_prob_panel"
   ]
  },
  {
   "cell_type": "code",
   "execution_count": 58,
   "metadata": {
    "collapsed": false
   },
   "outputs": [
    {
     "data": {
      "text/plain": [
       "admitted    0.019567\n",
       "rejected    0.004295\n",
       "Name: A, dtype: float64"
      ]
     },
     "execution_count": 58,
     "metadata": {},
     "output_type": "execute_result"
    }
   ],
   "source": [
    "joint_prob_panel['female'].loc['A']"
   ]
  },
  {
   "cell_type": "code",
   "execution_count": 69,
   "metadata": {
    "collapsed": false
   },
   "outputs": [
    {
     "data": {
      "text/plain": [
       "admitted    0.0196\n",
       "rejected    0.0043\n",
       "Name: A, dtype: float64"
      ]
     },
     "execution_count": 69,
     "metadata": {},
     "output_type": "execute_result"
    }
   ],
   "source": [
    "joint_prob_panel['female'].loc['A']"
   ]
  },
  {
   "cell_type": "code",
   "execution_count": 72,
   "metadata": {
    "collapsed": false
   },
   "outputs": [
    {
     "data": {
      "text/plain": [
       "admitted    0.35\n",
       "rejected    0.65\n",
       "Name: B, dtype: float64"
      ]
     },
     "execution_count": 72,
     "metadata": {},
     "output_type": "execute_result"
    }
   ],
   "source": [
    "joint_prob_panel['female'].loc['B']/joint_prob_panel['female'].loc['B'].sum()"
   ]
  },
  {
   "cell_type": "code",
   "execution_count": 80,
   "metadata": {
    "collapsed": false
   },
   "outputs": [],
   "source": [
    "pd.set_option('precision',7)"
   ]
  },
  {
   "cell_type": "code",
   "execution_count": 84,
   "metadata": {
    "collapsed": false
   },
   "outputs": [
    {
     "name": "stdout",
     "output_type": "stream",
     "text": [
      "female\n",
      "admitted    0.0195669\n",
      "rejected    0.0042952\n",
      "Name: A, dtype: float64\n",
      "0.023862129916\n",
      "admitted    0.82\n",
      "rejected    0.18\n",
      "Name: A, dtype: float64\n",
      "admitted    0.82\n",
      "rejected    0.18\n",
      "Name: A, dtype: float64\n",
      "\n",
      "male\n",
      "admitted    0.1130137\n",
      "rejected    0.0692665\n",
      "Name: A, dtype: float64\n",
      "0.182280159081\n",
      "admitted    0.62\n",
      "rejected    0.38\n",
      "Name: A, dtype: float64\n",
      "admitted    0.62\n",
      "rejected    0.38\n",
      "Name: A, dtype: float64\n",
      "\n",
      "female\n",
      "admitted    0.0289991\n",
      "rejected    0.0538555\n",
      "Name: B, dtype: float64\n",
      "0.082854617764\n",
      "admitted    0.35\n",
      "rejected    0.65\n",
      "Name: B, dtype: float64\n",
      "admitted    0.35\n",
      "rejected    0.65\n",
      "Name: B, dtype: float64\n",
      "\n",
      "male\n",
      "admitted    0.0304043\n",
      "rejected    0.0617300\n",
      "Name: B, dtype: float64\n",
      "0.0921343349536\n",
      "admitted    0.33\n",
      "rejected    0.67\n",
      "Name: B, dtype: float64\n",
      "admitted    0.33\n",
      "rejected    0.67\n",
      "Name: B, dtype: float64\n",
      "\n",
      "female\n",
      "admitted    0.0037561\n",
      "rejected    0.0017676\n",
      "Name: C, dtype: float64\n",
      "0.00552364118427\n",
      "admitted    0.68\n",
      "rejected    0.32\n",
      "Name: C, dtype: float64\n",
      "admitted    0.68\n",
      "rejected    0.32\n",
      "Name: C, dtype: float64\n",
      "\n",
      "male\n",
      "admitted    0.0779496\n",
      "rejected    0.0457799\n",
      "Name: C, dtype: float64\n",
      "0.123729562528\n",
      "admitted    0.63\n",
      "rejected    0.37\n",
      "Name: C, dtype: float64\n",
      "admitted    0.63\n",
      "rejected    0.37\n",
      "Name: C, dtype: float64\n",
      "\n",
      "female\n",
      "admitted    0.0445471\n",
      "rejected    0.0864737\n",
      "Name: D, dtype: float64\n",
      "0.131020768891\n",
      "admitted    0.34\n",
      "rejected    0.66\n",
      "Name: D, dtype: float64\n",
      "admitted    0.34\n",
      "rejected    0.66\n",
      "Name: D, dtype: float64\n",
      "\n",
      "male\n",
      "admitted    0.0265687\n",
      "rejected    0.0452386\n",
      "Name: D, dtype: float64\n",
      "0.0718073353955\n",
      "admitted    0.37\n",
      "rejected    0.63\n",
      "Name: D, dtype: float64\n",
      "admitted    0.37\n",
      "rejected    0.63\n",
      "Name: D, dtype: float64\n",
      "\n",
      "female\n",
      "admitted    0.0208396\n",
      "rejected    0.0659920\n",
      "Name: E, dtype: float64\n",
      "0.0868316394167\n",
      "admitted    0.24\n",
      "rejected    0.76\n",
      "Name: E, dtype: float64\n",
      "admitted    0.24\n",
      "rejected    0.76\n",
      "Name: E, dtype: float64\n",
      "\n",
      "male\n",
      "admitted    0.0118162\n",
      "rejected    0.0303844\n",
      "Name: E, dtype: float64\n",
      "0.0422006186478\n",
      "admitted    0.28\n",
      "rejected    0.72\n",
      "Name: E, dtype: float64\n",
      "admitted    0.28\n",
      "rejected    0.72\n",
      "Name: E, dtype: float64\n",
      "\n",
      "female\n",
      "admitted    0.0052740\n",
      "rejected    0.0700685\n",
      "Name: F, dtype: float64\n",
      "0.0753424657534\n",
      "admitted    0.07\n",
      "rejected    0.93\n",
      "Name: F, dtype: float64\n",
      "admitted    0.07\n",
      "rejected    0.93\n",
      "Name: F, dtype: float64\n",
      "\n",
      "male\n",
      "admitted    0.0049448\n",
      "rejected    0.0774680\n",
      "Name: F, dtype: float64\n",
      "0.0824127264693\n",
      "admitted    0.06\n",
      "rejected    0.94\n",
      "Name: F, dtype: float64\n",
      "admitted    0.06\n",
      "rejected    0.94\n",
      "Name: F, dtype: float64\n",
      "\n"
     ]
    }
   ],
   "source": [
    "for d in department_labels:\n",
    "    for g in gender_labels:\n",
    "        print(g)\n",
    "        print(joint_prob_panel[g].loc[d])\n",
    "        print(joint_prob_panel[g].loc[d].sum())\n",
    "        print(joint_prob_panel[g].loc[d]/joint_prob_panel[g].loc[d].sum())\n",
    "        print(joint_prob_panel[g].loc[d].truediv(joint_prob_panel[g].loc[d].sum()))\n",
    "        print()"
   ]
  },
  {
   "cell_type": "code",
   "execution_count": null,
   "metadata": {
    "collapsed": true
   },
   "outputs": [],
   "source": []
  }
 ],
 "metadata": {
  "kernelspec": {
   "display_name": "Python 3",
   "language": "python",
   "name": "python3"
  },
  "language_info": {
   "codemirror_mode": {
    "name": "ipython",
    "version": 3
   },
   "file_extension": ".py",
   "mimetype": "text/x-python",
   "name": "python",
   "nbconvert_exporter": "python",
   "pygments_lexer": "ipython3",
   "version": "3.5.2"
  }
 },
 "nbformat": 4,
 "nbformat_minor": 0
}
