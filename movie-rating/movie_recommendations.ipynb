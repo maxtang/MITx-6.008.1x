{
 "cells": [
  {
   "cell_type": "code",
   "execution_count": null,
   "metadata": {
    "collapsed": true
   },
   "outputs": [],
   "source": [
    "# %load movie_recommendations.py"
   ]
  },
  {
   "cell_type": "code",
   "execution_count": null,
   "metadata": {
    "collapsed": true
   },
   "outputs": [],
   "source": [
    "#!/usr/bin/env python\n",
    "\"\"\"\n",
    "movie_recommendations.py\n",
    "Original author: Felix Sun (6.008 TA, Fall 2015)\n",
    "Modified by:\n",
    "- Danielle Pace (6.008 TA, Fall 2016),\n",
    "- George H. Chen (6.008/6.008.1x instructor, Fall 2016)\n",
    "\n",
    "Please read the project instructions beforehand! Your code should go in the\n",
    "blocks denoted by \"YOUR CODE GOES HERE\" -- you should not need to modify any\n",
    "other code!\n",
    "\"\"\""
   ]
  },
  {
   "cell_type": "code",
   "execution_count": 8,
   "metadata": {
    "collapsed": true
   },
   "outputs": [],
   "source": [
    "import matplotlib.pyplot as plt\n",
    "import movie_data_helper\n",
    "import numpy as np\n",
    "import scipy\n",
    "import scipy.misc\n",
    "from sys import exit"
   ]
  },
  {
   "cell_type": "code",
   "execution_count": null,
   "metadata": {
    "collapsed": true
   },
   "outputs": [],
   "source": [
    "def compute_posterior(prior, likelihood, y):\n",
    "    \"\"\"\n",
    "    Use Bayes' rule for random variables to compute the posterior distribution\n",
    "    of a hidden variable X, given N observations Y_0, Y_1, ..., Y_{N-1}.\n",
    "    Conditioned on X, these observations Y_0, Y_1, ..., Y_{N-1} are i.i.d.\n",
    "\n",
    "    Hidden random variable X is assumed to take on a value in {0, 1, ..., M-1}.\n",
    "\n",
    "    Each random variable Y_i takes on a value in {0, 1, ..., K-1}.\n",
    "\n",
    "    Inputs\n",
    "    ------\n",
    "    - prior: a length M vector stored as a 1D NumPy array; prior[m] gives the\n",
    "        (unconditional) probability that X = m\n",
    "    - likelihood: a K row by M column matrix stored as a 2D NumPy array;\n",
    "        likelihood[k, m] gives the probability that Y = k given X = m\n",
    "    - y: a length-N vector stored as a 1D NumPy array; y[n] gives the observed\n",
    "        value for random variable Y_n\n",
    "\n",
    "    Output\n",
    "    ------\n",
    "    - posterior: a length M vector stored as a 1D NumPy array: posterior[m]\n",
    "        gives the probability that X = m given\n",
    "        Y_0 = y_0, ..., Y_{N-1} = y_{n-1}\n",
    "    \"\"\""
   ]
  },
  {
   "cell_type": "code",
   "execution_count": 13,
   "metadata": {
    "collapsed": false
   },
   "outputs": [
    {
     "name": "stdout",
     "output_type": "stream",
     "text": [
      "[ 0.6  0.4]\n",
      "[[ 0.7   0.98]\n",
      " [ 0.3   0.02]]\n",
      "0.98\n",
      "[0, 0, 1]\n"
     ]
    }
   ],
   "source": [
    "if(True): # testing driver\n",
    "    prior = np.array([0.6, 0.4])\n",
    "    print(prior)\n",
    "    likelihood = np.array([\n",
    "        [0.7, 0.98],\n",
    "        [0.3, 0.02],\n",
    "    ])\n",
    "    print(likelihood)\n",
    "    print(likelihood[0,1])\n",
    "    y = [0]*2 + [1]*1\n",
    "    print(y)\n",
    "    "
   ]
  },
  {
   "cell_type": "code",
   "execution_count": 11,
   "metadata": {
    "collapsed": false
   },
   "outputs": [
    {
     "name": "stdout",
     "output_type": "stream",
     "text": [
      "[ 0.6  0.4]\n",
      "[[ 0.7   0.98]\n",
      " [ 0.3   0.02]]\n",
      "[0, 0, 1]\n"
     ]
    },
    {
     "ename": "NameError",
     "evalue": "name 'log_answer' is not defined",
     "output_type": "error",
     "traceback": [
      "\u001b[0;31m---------------------------------------------------------------------------\u001b[0m",
      "\u001b[0;31mNameError\u001b[0m                                 Traceback (most recent call last)",
      "\u001b[0;32m<ipython-input-11-f45b26816fd9>\u001b[0m in \u001b[0;36m<module>\u001b[0;34m()\u001b[0m\n\u001b[1;32m     56\u001b[0m \u001b[0;34m\u001b[0m\u001b[0m\n\u001b[1;32m     57\u001b[0m     \u001b[0;31m# do not exponentiate before this step\u001b[0m\u001b[0;34m\u001b[0m\u001b[0;34m\u001b[0m\u001b[0m\n\u001b[0;32m---> 58\u001b[0;31m     \u001b[0mposterior\u001b[0m \u001b[0;34m=\u001b[0m \u001b[0mnp\u001b[0m\u001b[0;34m.\u001b[0m\u001b[0mexp\u001b[0m\u001b[0;34m(\u001b[0m\u001b[0mlog_answer\u001b[0m\u001b[0;34m)\u001b[0m\u001b[0;34m\u001b[0m\u001b[0m\n\u001b[0m\u001b[1;32m     59\u001b[0m     \u001b[0;31m# to be removed\u001b[0m\u001b[0;34m\u001b[0m\u001b[0;34m\u001b[0m\u001b[0m\n\u001b[1;32m     60\u001b[0m     \u001b[0mprint\u001b[0m\u001b[0;34m(\u001b[0m\u001b[0mposterior\u001b[0m\u001b[0;34m)\u001b[0m\u001b[0;34m\u001b[0m\u001b[0m\n",
      "\u001b[0;31mNameError\u001b[0m: name 'log_answer' is not defined"
     ]
    }
   ],
   "source": [
    "    # -------------------------------------------------------------------------\n",
    "    # ERROR CHECKS -- DO NOT MODIFY\n",
    "    #\n",
    "\n",
    "    # check that prior probabilities sum to 1\n",
    "    if np.abs(1 - np.sum(prior)) > 1e-06:\n",
    "        exit('In compute_posterior: The prior probabilities need to sum to 1')\n",
    "\n",
    "    # check that likelihood is specified as a 2D array\n",
    "    if len(likelihood.shape) != 2:\n",
    "        exit('In compute_posterior: The likelihood needs to be specified as ' +\n",
    "             'a 2D array')\n",
    "\n",
    "    K, M = likelihood.shape\n",
    "\n",
    "    # make sure likelihood and prior agree on number of hidden states\n",
    "    if len(prior) != M:\n",
    "        exit('In compute_posterior: Mismatch in number of hidden states ' +\n",
    "             'according to the prior and the likelihood.')\n",
    "\n",
    "    # make sure the conditional distribution given each hidden state value sums\n",
    "    # to 1\n",
    "    for m in range(M):\n",
    "        if np.abs(1 - np.sum(likelihood[:, m])) > 1e-06:\n",
    "            exit('In compute_posterior: P(Y | X = %d) does not sum to 1' % m)\n",
    "\n",
    "    #\n",
    "    # END OF ERROR CHECKS\n",
    "    # -------------------------------------------------------------------------\n",
    "\n",
    "    # -------------------------------------------------------------------------\n",
    "    # YOUR CODE GOES HERE FOR PART (b)\n",
    "    #\n",
    "    # Place your code to compute the log of the posterior here: store it in a\n",
    "    # NumPy array called `log_answer`. If you exponentiate really small\n",
    "    # numbers, the result is likely to underflow (i.e., it will be so small\n",
    "    # that the computer will just make it 0 rather than storing the right\n",
    "    # value). You need to go to log-domain. Hint: this next line is a good\n",
    "    # first step.\n",
    "    log_prior = np.log(prior)\n",
    "\n",
    "    #\n",
    "    # END OF YOUR CODE FOR PART (b)\n",
    "    # -------------------------------------------------------------------------\n",
    "\n",
    "    # do not exponentiate before this step\n",
    "    posterior = np.exp(log_answer)\n",
    "    # to be removed\n",
    "    print(posterior)"
   ]
  },
  {
   "cell_type": "code",
   "execution_count": 9,
   "metadata": {
    "collapsed": false
   },
   "outputs": [
    {
     "data": {
      "text/plain": [
       "array([0, 1, 2, 3, 4, 5, 6, 7, 8, 9])"
      ]
     },
     "execution_count": 9,
     "metadata": {},
     "output_type": "execute_result"
    }
   ],
   "source": [
    "from scipy.misc import logsumexp\n",
    "a = np.arange(10)\n",
    "a"
   ]
  },
  {
   "cell_type": "code",
   "execution_count": 10,
   "metadata": {
    "collapsed": false
   },
   "outputs": [
    {
     "data": {
      "text/plain": [
       "array([  1.00000000e+00,   2.71828183e+00,   7.38905610e+00,\n",
       "         2.00855369e+01,   5.45981500e+01,   1.48413159e+02,\n",
       "         4.03428793e+02,   1.09663316e+03,   2.98095799e+03,\n",
       "         8.10308393e+03])"
      ]
     },
     "execution_count": 10,
     "metadata": {},
     "output_type": "execute_result"
    }
   ],
   "source": [
    "np.exp(a)"
   ]
  },
  {
   "cell_type": "code",
   "execution_count": null,
   "metadata": {
    "collapsed": true
   },
   "outputs": [],
   "source": [
    "    return posterior"
   ]
  },
  {
   "cell_type": "code",
   "execution_count": null,
   "metadata": {
    "collapsed": false
   },
   "outputs": [],
   "source": [
    "def compute_movie_rating_likelihood(M):\n",
    "    \"\"\"\n",
    "    Compute the rating likelihood probability distribution of Y given X where\n",
    "    Y is an individual rating (takes on a value in {0, 1, ..., M-1}), and X\n",
    "    is the hidden true/inherent rating of a movie (also takes on a value in\n",
    "    {0, 1, ..., M-1}).\n",
    "\n",
    "    Please refer to the instructions of the project to see what the\n",
    "    likelihood for ratings should be.\n",
    "\n",
    "    Output\n",
    "    ------\n",
    "    - likelihood: an M row by M column matrix stored as a 2D NumPy array;\n",
    "        likelihood[k, m] gives the probability that Y = k given X = m\n",
    "    \"\"\"\n",
    "\n",
    "    # define the size to begin with\n",
    "    likelihood = np.zeros((M, M))\n",
    "\n",
    "    # -------------------------------------------------------------------------\n",
    "    # YOUR CODE GOES HERE FOR PART (c)\n",
    "    #\n",
    "    # Remember to normalize the likelihood, so that each column is a\n",
    "    # probability distribution.\n",
    "    #\n",
    "\n",
    "    #\n",
    "    # END OF YOUR CODE FOR PART (c)\n",
    "    # -------------------------------------------------------------------------\n",
    "\n",
    "    return likelihood\n",
    "\n",
    "\n",
    "def infer_true_movie_ratings(num_observations=-1):\n",
    "    \"\"\"\n",
    "    For every movie, computes the posterior distribution and MAP estimate of\n",
    "    the movie's true/inherent rating given the movie's observed ratings.\n",
    "\n",
    "    Input\n",
    "    -----\n",
    "    - num_observations: integer that specifies how many available ratings to\n",
    "        use per movie (the default value of -1 indicates that all available\n",
    "        ratings will be used).\n",
    "\n",
    "    Output\n",
    "    ------\n",
    "    - posteriors: a 2D array consisting of the posterior distributions where\n",
    "        the number of rows is the number of movies, and the number of columns\n",
    "        is M, i.e., the number of possible ratings (remember ratings are\n",
    "        0, 1, ..., M-1); posteriors[i] gives a length M vector that is the\n",
    "        posterior distribution of the true/inherent rating of the i-th movie\n",
    "        given ratings for the i-th movie (where for each movie, the number of\n",
    "        observations used is precisely what is specified by the input variable\n",
    "        `num_observations`)\n",
    "    - MAP_ratings: a 1D array with length given by the number of movies;\n",
    "        MAP_ratings[i] gives the true/inherent rating with the highest\n",
    "        posterior probability in the distribution `posteriors[i]`\n",
    "    \"\"\"\n",
    "\n",
    "    M = 11  # all of our ratings are between 0 and 10\n",
    "    prior = np.array([1.0 / M] * M)  # uniform distribution\n",
    "    likelihood = compute_movie_rating_likelihood(M)\n",
    "\n",
    "    # get the list of all movie IDs to process\n",
    "    movie_id_list = movie_data_helper.get_movie_id_list()\n",
    "    num_movies = len(movie_id_list)\n",
    "\n",
    "    # -------------------------------------------------------------------------\n",
    "    # YOUR CODE GOES HERE FOR PART (d)\n",
    "    #\n",
    "    # Your code should iterate through the movies. For each movie, your code\n",
    "    # should:\n",
    "    #   1. Get all the observed ratings for the movie. You can artificially\n",
    "    #      limit the number of available ratings used by truncating the ratings\n",
    "    #      vector according to num_observations.\n",
    "    #   2. Use the ratings you retrieved and the function compute_posterior to\n",
    "    #      obtain the posterior of the true/inherent rating of the movie\n",
    "    #      given the observed ratings\n",
    "    #   3. Find the rating for each movie that maximizes the posterior\n",
    "\n",
    "    # These are the output variables - it's your job to fill them.\n",
    "    posteriors = np.zeros((num_movies, M))\n",
    "    MAP_ratings = np.zeros(num_movies)\n",
    "\n",
    "    #\n",
    "    # END OF YOUR CODE FOR PART (d)\n",
    "    # -------------------------------------------------------------------------\n",
    "\n",
    "    return posteriors, MAP_ratings\n",
    "\n",
    "\n",
    "def compute_entropy(distribution):\n",
    "    \"\"\"\n",
    "    Given a distribution, computes the Shannon entropy of the distribution in\n",
    "    bits.\n",
    "\n",
    "    Input\n",
    "    -----\n",
    "    - distribution: a 1D array of probabilities that sum to 1\n",
    "\n",
    "    Output:\n",
    "    - entropy: the Shannon entropy of the input distribution in bits\n",
    "    \"\"\"\n",
    "\n",
    "    # -------------------------------------------------------------------------\n",
    "    # ERROR CHECK -- DO NOT MODIFY\n",
    "    #\n",
    "    if np.abs(1 - np.sum(distribution)) > 1e-6:\n",
    "        exit('In compute_entropy: distribution should sum to 1.')\n",
    "    #\n",
    "    # END OF ERROR CHECK\n",
    "    # -------------------------------------------------------------------------\n",
    "\n",
    "    # -------------------------------------------------------------------------\n",
    "    # YOUR CODE GOES HERE FOR PART (f)\n",
    "    #\n",
    "    # Be sure to:\n",
    "    # - use log base 2\n",
    "    # - enforce 0log0 = 0\n",
    "\n",
    "    #\n",
    "    # END OF YOUR CODE FOR PART (f)\n",
    "    # -------------------------------------------------------------------------\n",
    "\n",
    "    return entropy\n",
    "\n",
    "\n",
    "def compute_true_movie_rating_posterior_entropies(num_observations):\n",
    "    \"\"\"\n",
    "    For every movie, computes the Shannon entropy (in bits) of the posterior\n",
    "    distribution of the true/inherent rating of the movie given observed\n",
    "    ratings.\n",
    "\n",
    "    Input\n",
    "    -----\n",
    "    - num_observations: integer that specifies how many available ratings to\n",
    "        use per movie (the default value of -1 indicates that all available\n",
    "        ratings will be used)\n",
    "\n",
    "    Output\n",
    "    ------\n",
    "    - posterior_entropies: a 1D array; posterior_entropies[i] gives the Shannon\n",
    "        entropy (in bits) of the posterior distribution of the true/inherent\n",
    "        rating of the i-th movie given observed ratings (with number of\n",
    "        observed ratings given by the input `num_observations`)\n",
    "    \"\"\"\n",
    "\n",
    "    # -------------------------------------------------------------------------\n",
    "    # YOUR CODE GOES HERE FOR PART (g)\n",
    "    #\n",
    "    # Make use of the compute_entropy function you coded in part (f).\n",
    "\n",
    "    #\n",
    "    # END OF YOUR CODE FOR PART (g)\n",
    "    # -------------------------------------------------------------------------\n",
    "\n",
    "    return posterior_entropies\n",
    "\n",
    "\n",
    "def main():\n",
    "\n",
    "    # -------------------------------------------------------------------------\n",
    "    # ERROR CHECKS\n",
    "    #\n",
    "    # Here are some error checks that you can use to test your code.\n",
    "\n",
    "    print(\"Posterior calculation (few observations)\")\n",
    "    prior = np.array([0.6, 0.4])\n",
    "    likelihood = np.array([\n",
    "        [0.7, 0.98],\n",
    "        [0.3, 0.02],\n",
    "    ])\n",
    "    y = [0]*2 + [1]*1\n",
    "    print(\"My answer:\")\n",
    "    print(compute_posterior(prior, likelihood, y))\n",
    "    print(\"Expected answer:\")\n",
    "    print(np.array([[0.91986917, 0.08013083]]))\n",
    "\n",
    "    print(\"---\")\n",
    "    print(\"Entropy of fair coin flip\")\n",
    "    distribution = np.array([0.5, 0.5])\n",
    "    print(\"My answer:\")\n",
    "    print(compute_entropy(distribution))\n",
    "    print(\"Expected answer:\")\n",
    "    print(1.0)\n",
    "\n",
    "    print(\"Entropy of coin flip where P(heads) = 0.25 and P(tails) = 0.75\")\n",
    "    distribution = np.array([0.25, 0.75])\n",
    "    print(\"My answer:\")\n",
    "    print(compute_entropy(distribution))\n",
    "    print(\"Expected answer:\")\n",
    "    print(0.811278124459)\n",
    "\n",
    "    print(\"Entropy of coin flip where P(heads) = 0.75 and P(tails) = 0.25\")\n",
    "    distribution = np.array([0.75, 0.25])\n",
    "    print(\"My answer:\")\n",
    "    print(compute_entropy(distribution))\n",
    "    print(\"Expected answer:\")\n",
    "    print(0.811278124459)\n",
    "\n",
    "    #\n",
    "    # END OF ERROR CHECKS\n",
    "    # -------------------------------------------------------------------------\n",
    "\n",
    "    # -------------------------------------------------------------------------\n",
    "    # YOUR CODE GOES HERE FOR TESTING THE FUNCTIONS YOU HAVE WRITTEN,\n",
    "    # for example, to answer the questions in part (e) and part (h)\n",
    "    #\n",
    "    # Place your code that calls the relevant functions here.  Make sure it's\n",
    "    # easy for us graders to run your code. You may want to define multiple\n",
    "    # functions for each of the parts of this problem, and call them here.\n",
    "\n",
    "    #\n",
    "    # END OF YOUR CODE FOR TESTING\n",
    "    # -------------------------------------------------------------------------\n",
    "\n",
    "\n",
    "if __name__ == '__main__':\n",
    "    main()"
   ]
  },
  {
   "cell_type": "code",
   "execution_count": null,
   "metadata": {
    "collapsed": true
   },
   "outputs": [],
   "source": []
  }
 ],
 "metadata": {
  "anaconda-cloud": {},
  "kernelspec": {
   "display_name": "Python [conda root]",
   "language": "python",
   "name": "conda-root-py"
  },
  "language_info": {
   "codemirror_mode": {
    "name": "ipython",
    "version": 3
   },
   "file_extension": ".py",
   "mimetype": "text/x-python",
   "name": "python",
   "nbconvert_exporter": "python",
   "pygments_lexer": "ipython3",
   "version": "3.5.2"
  }
 },
 "nbformat": 4,
 "nbformat_minor": 1
}
